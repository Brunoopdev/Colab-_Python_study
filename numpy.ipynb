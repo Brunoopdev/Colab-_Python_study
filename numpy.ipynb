{
  "nbformat": 4,
  "nbformat_minor": 0,
  "metadata": {
    "colab": {
      "provenance": [],
      "authorship_tag": "ABX9TyMzNCO4kVxIBb4NtkQ45wdT",
      "include_colab_link": true
    },
    "kernelspec": {
      "name": "python3",
      "display_name": "Python 3"
    },
    "language_info": {
      "name": "python"
    }
  },
  "cells": [
    {
      "cell_type": "markdown",
      "metadata": {
        "id": "view-in-github",
        "colab_type": "text"
      },
      "source": [
        "<a href=\"https://colab.research.google.com/github/Brunoopdev/Colab_Python_study/blob/main/numpy.ipynb\" target=\"_parent\"><img src=\"https://colab.research.google.com/assets/colab-badge.svg\" alt=\"Open In Colab\"/></a>"
      ]
    },
    {
      "cell_type": "markdown",
      "source": [
        "# Estudo de NumPy para data science e análise de dados pelo google colab"
      ],
      "metadata": {
        "id": "7BD2fV6he4Fr"
      }
    },
    {
      "cell_type": "markdown",
      "source": [
        "Importa o Numpy e coloca um apelido para melhor manipulação"
      ],
      "metadata": {
        "id": "AcK9i6bgdRVS"
      }
    },
    {
      "cell_type": "code",
      "source": [
        "import numpy as np"
      ],
      "metadata": {
        "id": "HocDmHpkM0yn"
      },
      "execution_count": 4,
      "outputs": []
    },
    {
      "cell_type": "markdown",
      "source": [
        "Cria um array com o Numpy, tem que colocar o array com colchetes dentro das aspas do método array do Numpy e poderia ser um set, tupla, um dicionário ou um array comum do python."
      ],
      "metadata": {
        "id": "9IKqP4fpdSah"
      }
    },
    {
      "cell_type": "code",
      "source": [
        "teste = np.array([1,2,3,4,5,6,7])"
      ],
      "metadata": {
        "id": "JgoM0Bqwdw2R"
      },
      "execution_count": 9,
      "outputs": []
    },
    {
      "cell_type": "markdown",
      "source": [
        "Verifica a versão do Numpy"
      ],
      "metadata": {
        "id": "WIODz6HodS4W"
      }
    },
    {
      "cell_type": "code",
      "source": [
        "print(np.__version__)"
      ],
      "metadata": {
        "id": "f4sdqmMxc7c6",
        "outputId": "b9b00fd1-7cca-4e33-c9d5-9d5f5632d998",
        "colab": {
          "base_uri": "https://localhost:8080/"
        }
      },
      "execution_count": 13,
      "outputs": [
        {
          "output_type": "stream",
          "name": "stdout",
          "text": [
            "<module 'numpy.version' from '/usr/local/lib/python3.10/dist-packages/numpy/version.py'>\n"
          ]
        }
      ]
    },
    {
      "cell_type": "markdown",
      "source": [
        "Verificando o tipo de dado de um array aqui no numpy, que retorna\n",
        "* numpy.ndarray"
      ],
      "metadata": {
        "id": "AhlEgfhMdkMu"
      }
    },
    {
      "cell_type": "code",
      "source": [
        "print(type(teste))"
      ],
      "metadata": {
        "id": "t9TsENGNdkkV",
        "outputId": "9fc98fa2-9c2e-4e35-ae8b-59f79eae2ff6",
        "colab": {
          "base_uri": "https://localhost:8080/"
        }
      },
      "execution_count": 14,
      "outputs": [
        {
          "output_type": "stream",
          "name": "stdout",
          "text": [
            "<class 'numpy.ndarray'>\n"
          ]
        }
      ]
    },
    {
      "cell_type": "markdown",
      "source": [
        "* Arrays 0-D são arrays que possuem apenas um elemento dentro.\n",
        "\n",
        "* Arrays 1-D são os mais comuns que possuem alguns elementos dentro de um array.\n",
        "\n",
        "* Arrays 2-D são aqueles que possuem um array dentro de um array\n",
        "\n",
        "* Arrays 3-D são aqueles que possuem dois arrays 2-d dentro de um array\n",
        "\n",
        "---\n",
        "\n",
        "Dessa forma conseguimos identificar as dimensões de um array em numpy"
      ],
      "metadata": {
        "id": "FK9WCAZDeFfU"
      }
    },
    {
      "cell_type": "code",
      "source": [
        "array0d = np.array([42])\n",
        "array1d = np.array([1,2,3,4,5,6,7,8,9,10])\n",
        "array2d = np.array([[1,2,3,4,5], [5,4,3,2,1]])\n",
        "array3d = np.array([[1,2,3,4,5], [6,7,8,9,10],[10,9,8,7,6],[5,4,3,2,1]])\n",
        "\n",
        "print(array0d, '\\n')\n",
        "print(array1d, '\\n')\n",
        "print(array2d, '\\n')\n",
        "print(array3d)"
      ],
      "metadata": {
        "id": "8v4qJDCmfjxg",
        "outputId": "eabe243b-dbe9-42c5-ba47-0bc04ba91031",
        "colab": {
          "base_uri": "https://localhost:8080/"
        }
      },
      "execution_count": 21,
      "outputs": [
        {
          "output_type": "stream",
          "name": "stdout",
          "text": [
            "[42] \n",
            "\n",
            "[ 1  2  3  4  5  6  7  8  9 10] \n",
            "\n",
            "[[1 2 3 4 5]\n",
            " [5 4 3 2 1]] \n",
            "\n",
            "[[ 1  2  3  4  5]\n",
            " [ 6  7  8  9 10]\n",
            " [10  9  8  7  6]\n",
            " [ 5  4  3  2  1]]\n"
          ]
        }
      ]
    },
    {
      "cell_type": "markdown",
      "source": [
        "Conseguimos delimitar o número de dimensões ao definir um array em numpy, fazemos isso usando o comando\n",
        "\n",
        "* *ndmin = quantidadeDeDimensões*\n",
        "\n",
        "Por exemplo, um array de 5 dimensões.\n",
        "\n",
        "E para verificar a quantidade de dimensões, usamos o comando:\n",
        "* *array.ndim*\n",
        "\n"
      ],
      "metadata": {
        "id": "Ksbl58SlgPnS"
      }
    },
    {
      "cell_type": "code",
      "source": [
        "array5d = np.array([1,2,3,4,5], ndmin = 5)\n",
        "\n",
        "print(array5d)\n",
        "\n",
        "print(\"número de dimensões é:\", array5d.ndim)"
      ],
      "metadata": {
        "id": "Uv76o7k3gQDZ",
        "outputId": "d82b2714-3aad-4cfb-bc38-8436404b76cb",
        "colab": {
          "base_uri": "https://localhost:8080/"
        }
      },
      "execution_count": 27,
      "outputs": [
        {
          "output_type": "stream",
          "name": "stdout",
          "text": [
            "[[[[[1 2 3 4 5]]]]]\n",
            "número de dimensões é: 5\n"
          ]
        }
      ]
    },
    {
      "cell_type": "markdown",
      "source": [],
      "metadata": {
        "id": "kOBTYt6XiuU7"
      }
    },
    {
      "cell_type": "code",
      "source": [],
      "metadata": {
        "id": "wwAVaq8Aiupu"
      },
      "execution_count": null,
      "outputs": []
    }
  ]
}