{
  "nbformat": 4,
  "nbformat_minor": 0,
  "metadata": {
    "colab": {
      "provenance": [],
      "authorship_tag": "ABX9TyOG5B82eyulaDJ/3zbEhWKl",
      "include_colab_link": true
    },
    "kernelspec": {
      "name": "python3",
      "display_name": "Python 3"
    },
    "language_info": {
      "name": "python"
    }
  },
  "cells": [
    {
      "cell_type": "markdown",
      "metadata": {
        "id": "view-in-github",
        "colab_type": "text"
      },
      "source": [
        "<a href=\"https://colab.research.google.com/github/Brunoopdev/Colab_Python_study/blob/main/numpy.ipynb\" target=\"_parent\"><img src=\"https://colab.research.google.com/assets/colab-badge.svg\" alt=\"Open In Colab\"/></a>"
      ]
    },
    {
      "cell_type": "markdown",
      "source": [
        "# Estudo de NumPy para data science e análise de dados pelo google colab"
      ],
      "metadata": {
        "id": "7BD2fV6he4Fr"
      }
    },
    {
      "cell_type": "markdown",
      "source": [
        "Importa o Numpy e coloca um apelido para melhor manipulação"
      ],
      "metadata": {
        "id": "AcK9i6bgdRVS"
      }
    },
    {
      "cell_type": "code",
      "source": [
        "import numpy as np"
      ],
      "metadata": {
        "id": "HocDmHpkM0yn"
      },
      "execution_count": 4,
      "outputs": []
    },
    {
      "cell_type": "markdown",
      "source": [
        "Cria um array com o Numpy, tem que colocar o array com colchetes dentro das aspas do método array do Numpy e poderia ser um set, tupla, um dicionário ou um array comum do python."
      ],
      "metadata": {
        "id": "9IKqP4fpdSah"
      }
    },
    {
      "cell_type": "code",
      "source": [
        "teste = np.array([1,2,3,4,5,6,7])"
      ],
      "metadata": {
        "id": "JgoM0Bqwdw2R"
      },
      "execution_count": 9,
      "outputs": []
    },
    {
      "cell_type": "markdown",
      "source": [
        "Verifica a versão do Numpy"
      ],
      "metadata": {
        "id": "WIODz6HodS4W"
      }
    },
    {
      "cell_type": "code",
      "source": [
        "print(np.__version__)"
      ],
      "metadata": {
        "colab": {
          "base_uri": "https://localhost:8080/"
        },
        "id": "f4sdqmMxc7c6",
        "outputId": "b9b00fd1-7cca-4e33-c9d5-9d5f5632d998"
      },
      "execution_count": 13,
      "outputs": [
        {
          "output_type": "stream",
          "name": "stdout",
          "text": [
            "<module 'numpy.version' from '/usr/local/lib/python3.10/dist-packages/numpy/version.py'>\n"
          ]
        }
      ]
    },
    {
      "cell_type": "markdown",
      "source": [
        "Verificando o tipo de dado de um array aqui no numpy, que retorna\n",
        "* numpy.ndarray"
      ],
      "metadata": {
        "id": "AhlEgfhMdkMu"
      }
    },
    {
      "cell_type": "code",
      "source": [
        "print(type(teste))"
      ],
      "metadata": {
        "colab": {
          "base_uri": "https://localhost:8080/"
        },
        "id": "t9TsENGNdkkV",
        "outputId": "9fc98fa2-9c2e-4e35-ae8b-59f79eae2ff6"
      },
      "execution_count": 14,
      "outputs": [
        {
          "output_type": "stream",
          "name": "stdout",
          "text": [
            "<class 'numpy.ndarray'>\n"
          ]
        }
      ]
    },
    {
      "cell_type": "markdown",
      "source": [
        "* Arrays 0-D são arrays que possuem apenas um elemento dentro.\n",
        "\n",
        "* Arrays 1-D são os mais comuns que possuem alguns elementos dentro de um array.\n",
        "\n",
        "* Arrays 2-D são aqueles que possuem um array dentro de um array\n",
        "\n",
        "* Arrays 3-D são aqueles que possuem dois arrays 2-d dentro de um array\n",
        "\n",
        "---\n",
        "\n",
        "Dessa forma conseguimos identificar as dimensões de um array em numpy"
      ],
      "metadata": {
        "id": "FK9WCAZDeFfU"
      }
    },
    {
      "cell_type": "code",
      "source": [
        "array0d = np.array([42])\n",
        "array1d = np.array([1,2,3,4,5,6,7,8,9,10])\n",
        "array2d = np.array([[1,2,3,4,5], [5,4,3,2,1]])\n",
        "array3d = np.array([[[1,2,3,4,5], [6,7,8,9,10]],[[10,9,8,7,6],[5,4,3,2,1]]])\n",
        "\n",
        "print(array0d, '\\n')\n",
        "print(array1d, '\\n')\n",
        "print(array2d, '\\n')\n",
        "print(array3d)"
      ],
      "metadata": {
        "colab": {
          "base_uri": "https://localhost:8080/"
        },
        "id": "8v4qJDCmfjxg",
        "outputId": "918365bc-490b-42e1-ea42-da085ce5d878"
      },
      "execution_count": 60,
      "outputs": [
        {
          "output_type": "stream",
          "name": "stdout",
          "text": [
            "[42] \n",
            "\n",
            "[ 1  2  3  4  5  6  7  8  9 10] \n",
            "\n",
            "[[1 2 3 4 5]\n",
            " [5 4 3 2 1]] \n",
            "\n",
            "[[[ 1  2  3  4  5]\n",
            "  [ 6  7  8  9 10]]\n",
            "\n",
            " [[10  9  8  7  6]\n",
            "  [ 5  4  3  2  1]]]\n"
          ]
        }
      ]
    },
    {
      "cell_type": "markdown",
      "source": [
        "Conseguimos delimitar o número de dimensões ao definir um array em numpy, fazemos isso usando o comando\n",
        "\n",
        "* *ndmin = quantidadeDeDimensões*\n",
        "\n",
        "Por exemplo, um array de 5 dimensões.\n",
        "\n",
        "E para verificar a quantidade de dimensões, usamos o comando:\n",
        "* *array.ndim*\n",
        "\n"
      ],
      "metadata": {
        "id": "Ksbl58SlgPnS"
      }
    },
    {
      "cell_type": "code",
      "source": [
        "array5d = np.array([1,2,3,4,5], ndmin = 5)\n",
        "\n",
        "print(array5d)\n",
        "\n",
        "print(\"número de dimensões é:\", array5d.ndim)"
      ],
      "metadata": {
        "colab": {
          "base_uri": "https://localhost:8080/"
        },
        "id": "Uv76o7k3gQDZ",
        "outputId": "d82b2714-3aad-4cfb-bc38-8436404b76cb"
      },
      "execution_count": 27,
      "outputs": [
        {
          "output_type": "stream",
          "name": "stdout",
          "text": [
            "[[[[[1 2 3 4 5]]]]]\n",
            "número de dimensões é: 5\n"
          ]
        }
      ]
    },
    {
      "cell_type": "markdown",
      "source": [
        "Para acessar um elemento dentro de um array feito por Numpy, funciona da mesma forma que no python puro.\n",
        "\n",
        "* print(teste[0])\n",
        "\n",
        "Já para acessar um elemento dentro de um array que tenha mais dimensões, podemos acessar escolhendo qual é o array e qual é o posicionamento do elemento:\n",
        "\n",
        "* print(array2d[0,1]) -> Por exemplo nesse caso o 0 escolhe o primeiro array, e o 1 depois da vírgula escolhe o elemento que esteja na posição 1\n",
        "\n",
        "* print(array2d[1,1]) -> Já nesse exemplo, escolhemos o segundo array e o elemento que esteja na posição 1"
      ],
      "metadata": {
        "id": "kOBTYt6XiuU7"
      }
    },
    {
      "cell_type": "code",
      "source": [
        "acessoElemento = np.array([1,2,3,4,5,6,7,8,9,10])\n",
        "print(acessoElemento)\n",
        "print('O elemento que está na posição 0 do array acima é:', acessoElemento[0], '\\n\\n')\n",
        "\n",
        "print(array2d)\n",
        "print('A posição do primeiro array e do elemento em posição 1 é:', array2d[0,1])\n",
        "print('A posição do segundo array e do elemento em posição 1 é:', array2d[1,1])"
      ],
      "metadata": {
        "colab": {
          "base_uri": "https://localhost:8080/"
        },
        "id": "wwAVaq8Aiupu",
        "outputId": "c1e6275a-9b49-4091-fdfd-85c38e39f43e"
      },
      "execution_count": 42,
      "outputs": [
        {
          "output_type": "stream",
          "name": "stdout",
          "text": [
            "[ 1  2  3  4  5  6  7  8  9 10]\n",
            "O elemento que está na posição 0 do array acima é: 1 \n",
            "\n",
            "\n",
            "[[1 2 3 4 5]\n",
            " [5 4 3 2 1]]\n",
            "A posição do primeiro array e do elemento em posição 1 é: 2\n",
            "A posição do segundo array e do elemento em posição 1 é: 4\n"
          ]
        }
      ]
    },
    {
      "cell_type": "markdown",
      "source": [
        "Já para acessar um elemento em um array que possui 3 dimensões, funciona assim:\n",
        "\n",
        "* print(array3d[0,1,2]) -> O primeiro 0 significa qual dos arrays 2d entraremos, o 1 significa qual dos arrays dentro dos arrays 2d vamos entrar, e o 2 significa qual posição de elemento queremos buscar."
      ],
      "metadata": {
        "id": "oSQx6qthkRtF"
      }
    },
    {
      "cell_type": "code",
      "source": [
        "print(array3d, '\\n\\n')\n",
        "print('O elemento da posição 2 no segundo array dentro do primeiro array 2D:',array3d[0,1,2])"
      ],
      "metadata": {
        "id": "iAW2_G4zkSi4",
        "outputId": "08fb150a-df74-4b78-a263-048cde3d91bd",
        "colab": {
          "base_uri": "https://localhost:8080/"
        }
      },
      "execution_count": 65,
      "outputs": [
        {
          "output_type": "stream",
          "name": "stdout",
          "text": [
            "[[[ 1  2  3  4  5]\n",
            "  [ 6  7  8  9 10]]\n",
            "\n",
            " [[10  9  8  7  6]\n",
            "  [ 5  4  3  2  1]]] \n",
            "\n",
            "\n",
            "O elemento da posição 2 no segundo array dentro do primeiro array 2D: 8\n"
          ]
        }
      ]
    },
    {
      "cell_type": "markdown",
      "source": [
        "Com index negativos, conseguimos selecionar o último elemento dentro de um array.\n",
        "\n",
        "* print(array2d[0,-1]) -> O 0 significa escolher o primeiro array dentro de um array2d e o -1 significa escolher o último elemento do array."
      ],
      "metadata": {
        "id": "uMurB_cspdr_"
      }
    },
    {
      "cell_type": "code",
      "source": [
        "print(array2d, '\\n\\n')\n",
        "print('O último elemento do segundo array dentro do array 2d é:', array2d[0,-1])"
      ],
      "metadata": {
        "id": "34IQSNo8pd8J",
        "outputId": "e4c0edd6-fc6b-4c3c-f82f-44de81e5ab1a",
        "colab": {
          "base_uri": "https://localhost:8080/"
        }
      },
      "execution_count": 73,
      "outputs": [
        {
          "output_type": "stream",
          "name": "stdout",
          "text": [
            "[[1 2 3 4 5]\n",
            " [5 4 3 2 1]] \n",
            "\n",
            "\n",
            "O último elemento do segundo array dentro do array 2d é: 5\n"
          ]
        }
      ]
    },
    {
      "cell_type": "markdown",
      "source": [
        "Podemos cortar um array em um pedaço para usar como bem entender, e funciona assim:\n",
        "\n",
        "* print(array1d[0:5]) -> O 0 pega o elemento de posição 0 e o 5 elemento de posição 5 e retira, portanto esse array que tem 10 elementos, vai exibir apenas do elemento 0 até o elemento 4, pois o ultimo elemento não conta.\n",
        "\n",
        "E conseguimos cortar do primeiro elemento até qualquer um que queremos, de forma automárica, fazendo isso ocultando o primeiro elemento:\n",
        "\n",
        "* print(array1d[:5]) -> Dessa forma fazemos exatamente como o caso acima."
      ],
      "metadata": {
        "id": "mq_B_iVNqRHc"
      }
    },
    {
      "cell_type": "code",
      "source": [
        "print(array1d, '\\n\\n')\n",
        "print(array1d[0:5], '\\n') # Usando o método exibindo o primeiro elemento e o qual queremos\n",
        "print(array1d[:5]) # Usando o método de ocultar o primeiro elemento, apenas selecionamos o qual queremos"
      ],
      "metadata": {
        "id": "wHYhmfHTqRXS",
        "outputId": "79b0fd92-f2b0-4f3e-d652-43fe6511f944",
        "colab": {
          "base_uri": "https://localhost:8080/"
        }
      },
      "execution_count": 77,
      "outputs": [
        {
          "output_type": "stream",
          "name": "stdout",
          "text": [
            "[ 1  2  3  4  5  6  7  8  9 10] \n",
            "\n",
            "\n",
            "[1 2 3 4 5] \n",
            "\n",
            "[1 2 3 4 5]\n"
          ]
        }
      ]
    }
  ]
}